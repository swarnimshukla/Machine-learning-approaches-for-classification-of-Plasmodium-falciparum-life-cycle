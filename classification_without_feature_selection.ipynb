{
 "cells": [
  {
   "cell_type": "code",
   "execution_count": null,
   "id": "6ddda96f",
   "metadata": {},
   "outputs": [],
   "source": [
    "import pandas as pd\n",
    "from sklearn.model_selection import train_test_split"
   ]
  },
  {
   "cell_type": "code",
   "execution_count": null,
   "id": "5e2f6276",
   "metadata": {},
   "outputs": [],
   "source": [
    "df1 = pd.read_csv('pf10xIDC_pheno.csv')"
   ]
  },
  {
   "cell_type": "code",
   "execution_count": null,
   "id": "66cbec2e",
   "metadata": {},
   "outputs": [],
   "source": [
    "df2 = pd.read_csv('pf10xIDC_counts.csv')\n",
    "df2 = df2.drop(df2.columns[0], axis=1)\n",
    "df2"
   ]
  },
  {
   "cell_type": "code",
   "execution_count": null,
   "id": "96283429-3ddc-4a0f-95df-560651ceac43",
   "metadata": {},
   "outputs": [],
   "source": [
    "X = []\n",
    "for (columnName, columnData) in df2.iteritems():\n",
    "    X.append(columnData.values.tolist())\n",
    "Y = df1.bulk\n",
    "len(Y)"
   ]
  },
  {
   "cell_type": "code",
   "execution_count": null,
   "id": "308daaf4-216d-4856-9e59-9f04c484d924",
   "metadata": {
    "tags": []
   },
   "outputs": [],
   "source": [
    "X_train, X_test, Y_train, Y_test = train_test_split(X, Y, test_size= 0.2, stratify = Y)"
   ]
  },
  {
   "cell_type": "code",
   "execution_count": null,
   "id": "41f7c189-8843-4ac7-96c3-f59fe015cbb0",
   "metadata": {},
   "outputs": [],
   "source": [
    "import pandas as pd\n",
    "import matplotlib.pyplot as plt\n",
    "import seaborn as sns\n",
    "def print_confusion_matrix(confusion_matrix, class_names, figsize = (10,7), fontsize=14):\n",
    "    \"\"\"Prints a confusion matrix, as returned by sklearn.metrics.confusion_matrix, as a heatmap.\n",
    "    \n",
    "    Note that due to returning the created figure object, when this funciton is called in a\n",
    "    notebook the figure willl be printed twice. To prevent this, either append ; to your\n",
    "    function call, or modify the function by commenting out the return expression.\n",
    "    \n",
    "    Arguments\n",
    "    ---------\n",
    "    confusion_matrix: numpy.ndarray\n",
    "        The numpy.ndarray object returned from a call to sklearn.metrics.confusion_matrix. \n",
    "        Similarly constructed ndarrays can also be used.\n",
    "    class_names: list\n",
    "        An ordered list of class names, in the order they index the given confusion matrix.\n",
    "    figsize: tuple\n",
    "        A 2-long tuple, the first value determining the horizontal size of the ouputted figure,\n",
    "        the second determining the vertical size. Defaults to (10,7).\n",
    "    fontsize: int\n",
    "        Font size for axes labels. Defaults to 14.\n",
    "        \n",
    "    Returns\n",
    "    -------\n",
    "    matplotlib.figure.Figure\n",
    "        The resulting confusion matrix figure\n",
    "    \"\"\"\n",
    "    df_cm = pd.DataFrame(\n",
    "        confusion_matrix, index=class_names, columns=class_names, \n",
    "    )\n",
    "    fig = plt.figure(figsize=figsize)\n",
    "    try:\n",
    "        heatmap = sns.heatmap(df_cm, annot=True, fmt=\"d\")\n",
    "    except ValueError:\n",
    "        raise ValueError(\"Confusion matrix values must be integers.\")\n",
    "    heatmap.yaxis.set_ticklabels(heatmap.yaxis.get_ticklabels(), rotation=0, ha='right', fontsize=fontsize)\n",
    "    heatmap.xaxis.set_ticklabels(heatmap.xaxis.get_ticklabels(), rotation=45, ha='right', fontsize=fontsize)\n",
    "    plt.ylabel('True label')\n",
    "    plt.xlabel('Predicted label')\n",
    "    # Note that due to returning the created figure object, when this funciton is called in a notebook\n",
    "    # the figure willl be printed twice. To prevent this, either append ; to your function call, or\n",
    "    # modify the function by commenting out this return expression.\n",
    "    return fig"
   ]
  },
  {
   "cell_type": "code",
   "execution_count": null,
   "id": "909685d1-1c08-4570-8c39-755c9e01be9b",
   "metadata": {},
   "outputs": [],
   "source": [
    "print(\"SVM Result...\")\n",
    "print(classification_report(Y_test, y_pred))\n",
    "print(\"Logistic Regeression Result...\")\n",
    "print(classification_report(Y_test, y_pred_log))\n",
    "print(\"RF Result...\")\n",
    "print(classification_report(Y_test, y_pred_RF))"
   ]
  },
  {
   "cell_type": "code",
   "execution_count": null,
   "id": "af3e04ee-b014-4ee0-80fe-b3bb596992ee",
   "metadata": {},
   "outputs": [],
   "source": [
    "import matplotlib.pyplot as plt\n",
    "import seaborn as sns\n",
    " \n",
    "# Create bars\n",
    "barWidth = 0.5\n",
    "bars1 = [91]\n",
    "bars2 = [90]\n",
    "bars3 = [88]\n",
    "bars4 = bars1 + bars2 + bars3\n",
    " \n",
    "# The X position of bars\n",
    "r1 = [1]\n",
    "r2 = [2]\n",
    "r3 = [3]\n",
    "r4 = r1 + r2 + r3\n",
    "sns.set_style(\"whitegrid\")\n",
    "\n",
    "# Create barplot\n",
    "plt.bar(r1, bars1, width = barWidth, color = \"#FFA500\", lw = 3)\n",
    "plt.bar(r2, bars2, width = barWidth, color = \"#FFFF14\", lw = 3)\n",
    "plt.bar(r3, bars3, width = barWidth, color = \"#00FFFF\", lw = 3)\n",
    "plt.ylim(80, 100)\n",
    "# plt.legend()\n",
    " \n",
    "# Text below each barplot with a rotation at 90°\n",
    "plt.xticks([r + barWidth + 0.5 for r in range(len(r4))], ['SVM', 'LR', 'RF'])\n",
    "\n",
    "plt.ylabel(\"Accuracy in %\")\n",
    "plt.xlabel(\"Classification Model\")\n",
    "# Create labels\n",
    "label = ['91%', '90%', '88%']\n",
    " \n",
    "# Text on the top of each bar\n",
    "for i in range(len(r4)):\n",
    "    plt.text(x = r4[i] - 0.1 , y = bars4[i]+0.1, s = label[i], size = 12)\n",
    "\n",
    "# Adjust the margins\n",
    "plt.subplots_adjust(bottom= 0.2, top = 0.98)\n",
    " \n",
    "# Show graphic\n",
    "\n",
    "plt.savefig('accuracy_without_feature_selection.png',bbox_inches='tight')\n",
    "plt.show()"
   ]
  },
  {
   "cell_type": "code",
   "execution_count": null,
   "id": "3765ef70-b90a-45db-9059-e777ba36b604",
   "metadata": {},
   "outputs": [],
   "source": []
  }
 ],
 "metadata": {
  "kernelspec": {
   "display_name": "Python 3 (ipykernel)",
   "language": "python",
   "name": "python3"
  },
  "language_info": {
   "codemirror_mode": {
    "name": "ipython",
    "version": 3
   },
   "file_extension": ".py",
   "mimetype": "text/x-python",
   "name": "python",
   "nbconvert_exporter": "python",
   "pygments_lexer": "ipython3",
   "version": "3.8.11"
  }
 },
 "nbformat": 4,
 "nbformat_minor": 5
}
