{
 "cells": [
  {
   "cell_type": "code",
   "execution_count": null,
   "id": "deaf336a-a2af-4f09-adcb-8a3c76f390dc",
   "metadata": {},
   "outputs": [],
   "source": [
    "import pandas as pd\n",
    "from sklearn.model_selection import train_test_split\n",
    "from sklearn.metrics import *\n",
    "from sklearn.svm import SVC\n",
    "from sklearn.metrics import classification_report\n",
    "from sklearn.linear_model import LogisticRegression\n",
    "from sklearn.ensemble import RandomForestClassifier"
   ]
  },
  {
   "cell_type": "code",
   "execution_count": null,
   "id": "99c52335-d89e-471d-a893-699a542bb487",
   "metadata": {},
   "outputs": [],
   "source": [
    "df1 = pd.read_csv('pf10xIDC_pheno.csv')\n",
    "df2 = pd.read_csv('pf10xIDC_counts.csv')\n",
    "\n",
    "\n",
    "feature_names = df2.iloc[:, 0].tolist()\n",
    "\n",
    "df2 = df2.drop(df2.columns[0], axis=1)\n",
    "# feature_names\n",
    "df2\n",
    "\n"
   ]
  },
  {
   "cell_type": "code",
   "execution_count": null,
   "id": "248835bb-35d9-483c-bf3f-01ca083000a2",
   "metadata": {},
   "outputs": [],
   "source": [
    "X = []\n",
    "for (columnName, columnData) in df2.iteritems():\n",
    "    X.append(columnData.values.tolist())\n",
    "Y = df1.bulk\n",
    "len(Y)"
   ]
  },
  {
   "cell_type": "code",
   "execution_count": null,
   "id": "cbfcf924-2b65-4d0e-bfa0-8a220e709c22",
   "metadata": {},
   "outputs": [],
   "source": [
    "df = pd.DataFrame(X, columns = feature_names)"
   ]
  },
  {
   "cell_type": "code",
   "execution_count": null,
   "id": "0e6586ff-4e0e-43b6-966b-e9e7a3e6c239",
   "metadata": {},
   "outputs": [],
   "source": [
    "# x = df.values.tolist()\n",
    "# print(x == X)"
   ]
  },
  {
   "cell_type": "code",
   "execution_count": null,
   "id": "7d279fd9-8908-47a3-92c4-c0115c853ebe",
   "metadata": {},
   "outputs": [],
   "source": [
    "df['bulk'] = Y"
   ]
  },
  {
   "cell_type": "code",
   "execution_count": null,
   "id": "89a5f6fc-fa15-43c9-bb51-6f8c36e42090",
   "metadata": {},
   "outputs": [],
   "source": [
    "mcc = make_scorer(matthews_corrcoef)"
   ]
  },
  {
   "cell_type": "code",
   "execution_count": null,
   "id": "2eca7e2b-1fdd-46f2-a588-a8912ea6cd1d",
   "metadata": {},
   "outputs": [],
   "source": [
    "x = df.drop(['bulk'], axis=1)"
   ]
  },
  {
   "cell_type": "code",
   "execution_count": null,
   "id": "f5795347-19cc-4ec4-b561-fd608c367013",
   "metadata": {},
   "outputs": [],
   "source": [
    "x"
   ]
  },
  {
   "cell_type": "code",
   "execution_count": null,
   "id": "89b1c348-00c0-44ea-974b-e34885cc4adc",
   "metadata": {},
   "outputs": [],
   "source": [
    "y = df['bulk']\n",
    "X_train, X_test, Y_train, Y_test = train_test_split(x, y, test_size = 0.2, stratify = y)\n",
    "X_train\n",
    "Y_test\n",
    "str = 'PF3D7_1401500 PF3D7_1402900 PF3D7_1406000 PF3D7_1407100 PF3D7_1407700 PF3D7_1407900 PF3D7_1412900.1 PF3D7_1413200 PF3D7_1413400 PF3D7_1419800.2 PF3D7_1420200 PF3D7_1420700 PF3D7_1421200 PF3D7_1421500 PF3D7_1422600 PF3D7_1426200 PF3D7_1426800 PF3D7_1427300 PF3D7_1428500 PF3D7_1429300 PF3D7_1430100 PF3D7_1435200 PF3D7_1436200 PF3D7_1438100 PF3D7_1439900 PF3D7_1440300 PF3D7_1441600 PF3D7_1442200 PF3D7_1444700 PF3D7_1445900 PF3D7_1447700 PF3D7_1449200 PF3D7_1449600 PF3D7_1451600 PF3D7_1452000 PF3D7_1453800 PF3D7_1457700 PF3D7_1457800 PF3D7_1459800 PF3D7_1462000 PF3D7_1462800 PF3D7_1463600 PF3D7_1463800 PF3D7_1466100 PF3D7_1466700 PF3D7_1467900 PF3D7_1475500 PF3D7_1476500 PF3D7_1300800 PF3D7_1304300 PF3D7_1306300 PF3D7_1309800 PF3D7_1310200 PF3D7_1311100 PF3D7_1312450 PF3D7_1312600 PF3D7_1314700 PF3D7_1320300 PF3D7_1320700 PF3D7_1321100 PF3D7_1324400 PF3D7_1329100 PF3D7_1332900 PF3D7_1333100 PF3D7_1333500 PF3D7_1334300 PF3D7_1334400 PF3D7_1335000 PF3D7_1336800 PF3D7_1338400 PF3D7_1338500 PF3D7_1339800 PF3D7_1340600 PF3D7_1343500 PF3D7_1345900 PF3D7_1347400 PF3D7_1348900 PF3D7_1351600 PF3D7_1351800.1 PF3D7_1354900 PF3D7_1357100 PF3D7_1358700 PF3D7_1359400 PF3D7_1363600 PF3D7_1366000 PF3D7_1366600 PF3D7_1368000 PF3D7_1373400 PF3D7_1201300 PF3D7_1202100.1 PF3D7_1205500 PF3D7_1207900 PF3D7_1208400 PF3D7_1211700 PF3D7_1212500 PF3D7_1218400 PF3D7_1218900 PF3D7_1219100 PF3D7_1220700 PF3D7_1220900 PF3D7_1223500 PF3D7_1227600 PF3D7_1229500 PF3D7_1231200 PF3D7_1232400 PF3D7_1232800 PF3D7_1235500 PF3D7_1237100 PF3D7_1238300 PF3D7_1238400 PF3D7_1238500 PF3D7_1240100 PF3D7_1242900 PF3D7_1243900 PF3D7_1246500 PF3D7_1248000 PF3D7_1252200 PF3D7_1252500 PF3D7_1103100 PF3D7_1103700 PF3D7_1103900 PF3D7_1105000 PF3D7_1105100 PF3D7_1105600 PF3D7_1106500 PF3D7_1107700 PF3D7_1111400 PF3D7_1112100 PF3D7_1113000 PF3D7_1113600 PF3D7_1115300 PF3D7_1116000 PF3D7_1116100 PF3D7_1116200.1 PF3D7_1117100 PF3D7_1121600 PF3D7_1123400 PF3D7_1124100 PF3D7_1126500 PF3D7_1128700 PF3D7_1131100 PF3D7_1136700.1 PF3D7_1136800 PF3D7_1137300 PF3D7_1140600 PF3D7_1144900 PF3D7_1145300 PF3D7_1146000 PF3D7_1147400 PF3D7_1147800.1 PF3D7_1002900 PF3D7_1007100 PF3D7_1009000 PF3D7_1012100 PF3D7_1014300 PF3D7_1014700 PF3D7_1016300 PF3D7_1017300.1 PF3D7_1019100 PF3D7_1020100 PF3D7_1022300 PF3D7_1023400 PF3D7_1024800 PF3D7_1026400 PF3D7_1032600 PF3D7_1033000 PF3D7_1034100 PF3D7_1039000 PF3D7_1040300 PF3D7_0902300 PF3D7_0903900 PF3D7_0904300 PF3D7_0904500 PF3D7_0904700 PF3D7_0905900 PF3D7_0907300 PF3D7_0907400 PF3D7_0907700 PF3D7_0910800 PF3D7_0911600 PF3D7_0913000 PF3D7_0913300 PF3D7_0914000 PF3D7_0914700 PF3D7_0915000 PF3D7_0916400 PF3D7_0919600 PF3D7_0919900 PF3D7_0924800 PF3D7_0926200 PF3D7_0927200 PF3D7_0927500 PF3D7_0932100 PF3D7_0932600 PF3D7_0932900 PF3D7_0933600 PF3D7_0933800 PF3D7_0935900 PF3D7_0936000 PF3D7_0936500 PF3D7_0802200 PF3D7_0802700 PF3D7_0803000 PF3D7_0805700 PF3D7_0806100 PF3D7_0813300 PF3D7_0813600 PF3D7_0815900 PF3D7_0817300 PF3D7_0819700 PF3D7_0822900 PF3D7_0823400 PF3D7_0824500 PF3D7_0824700 PF3D7_0825000 PF3D7_0827800 PF3D7_0828000 PF3D7_0828500 PF3D7_0828700 PF3D7_0831700 PF3D7_0700100 PF3D7_0704400 PF3D7_0705600 PF3D7_0707300 PF3D7_0707600 PF3D7_0710800 PF3D7_0712400 PF3D7_0716400 PF3D7_0716600 PF3D7_0716800 PF3D7_0718100 PF3D7_0721800 PF3D7_0722700 PF3D7_0724200 PF3D7_0726900 PF3D7_0727900 PF3D7_0729700 PF3D7_0600200 PF3D7_0600700 PF3D7_0605000 PF3D7_0606600 PF3D7_0606900 PF3D7_0607700 PF3D7_0608000 PF3D7_0608800 PF3D7_0610400 PF3D7_0611000 PF3D7_0613800 PF3D7_0614300 PF3D7_0615000 PF3D7_0615500 PF3D7_0616900 PF3D7_0617800 PF3D7_0621900 PF3D7_0623200 PF3D7_0623300 PF3D7_0623400 PF3D7_0623700 PF3D7_0625900 PF3D7_0626800 PF3D7_0627400 PF3D7_0627900 PF3D7_0628500 PF3D7_0629000 PF3D7_0630800 PF3D7_0501100.2 PF3D7_0501400 PF3D7_0506400 PF3D7_0508300 PF3D7_0510200 PF3D7_0512800 PF3D7_0513700 PF3D7_0515700 PF3D7_0516700 PF3D7_0517200 PF3D7_0517300 PF3D7_0519400 PF3D7_0520000 PF3D7_0521700 PF3D7_0522000 PF3D7_0524300 PF3D7_0525000 PF3D7_0532100 PF3D7_0401600.2 PF3D7_0402400 PF3D7_0404200 PF3D7_0407600 PF3D7_0410600 PF3D7_0410800 PF3D7_0413300 PF3D7_0414200.2 PF3D7_0416500 PF3D7_0418400 PF3D7_0420600 PF3D7_0420700 PF3D7_0422300 PF3D7_0422500 PF3D7_0422700 PF3D7_0422900 PF3D7_0424600 PF3D7_0425800 PF3D7_0302500 PF3D7_0302700 PF3D7_0302800 PF3D7_0309600 PF3D7_0311100 PF3D7_0311300 PF3D7_0312400 PF3D7_0314000 PF3D7_0314600 PF3D7_0319300 PF3D7_0320500 PF3D7_0321900 PF3D7_0322200 PF3D7_0200100 PF3D7_0201500 PF3D7_0202000 PF3D7_0202500 PF3D7_0202900 PF3D7_0203600 PF3D7_0204500 PF3D7_0204900 PF3D7_0207400 PF3D7_0207600 PF3D7_0209000 PF3D7_0211500 PF3D7_0211700 PF3D7_0212500 PF3D7_0215000 PF3D7_0216100 PF3D7_0217000 PF3D7_0219300 PF3D7_0107300 PF3D7_0109400 PF3D7_0114500 PF3D7_0115300'\n",
    "# print(str[0], str[len(str) -1])\n",
    "temp = \"\"\n",
    "arr = []\n",
    "for s in range(0, len(str)):\n",
    "    if(str[s] != \" \"):\n",
    "        temp += str[s]\n",
    "    elif(str[s] == \" \"):\n",
    "        arr.append(temp)\n",
    "        temp = \"\"\n",
    "        \n",
    "arr.append(temp)\n",
    "print(arr)\n",
    "print(X_train[arr])"
   ]
  },
  {
   "cell_type": "code",
   "execution_count": null,
   "id": "14367d1b-c257-4975-8101-aaefac428e94",
   "metadata": {},
   "outputs": [],
   "source": [
    "import pandas as pd\n",
    "import matplotlib.pyplot as plt\n",
    "import seaborn as sns\n",
    "def print_confusion_matrix(confusion_matrix, class_names, figsize = (10,7), fontsize=14):\n",
    "    \"\"\"Prints a confusion matrix, as returned by sklearn.metrics.confusion_matrix, as a heatmap.\n",
    "    \n",
    "    Note that due to returning the created figure object, when this funciton is called in a\n",
    "    notebook the figure willl be printed twice. To prevent this, either append ; to your\n",
    "    function call, or modify the function by commenting out the return expression.\n",
    "    \n",
    "    Arguments\n",
    "    ---------\n",
    "    confusion_matrix: numpy.ndarray\n",
    "        The numpy.ndarray object returned from a call to sklearn.metrics.confusion_matrix. \n",
    "        Similarly constructed ndarrays can also be used.\n",
    "    class_names: list\n",
    "        An ordered list of class names, in the order they index the given confusion matrix.\n",
    "    figsize: tuple\n",
    "        A 2-long tuple, the first value determining the horizontal size of the ouputted figure,\n",
    "        the second determining the vertical size. Defaults to (10,7).\n",
    "    fontsize: int\n",
    "        Font size for axes labels. Defaults to 14.\n",
    "        \n",
    "    Returns\n",
    "    -------\n",
    "    matplotlib.figure.Figure\n",
    "        The resulting confusion matrix figure\n",
    "    \"\"\"\n",
    "    df_cm = pd.DataFrame(\n",
    "        confusion_matrix, index=class_names, columns=class_names, \n",
    "    )\n",
    "    fig = plt.figure(figsize=figsize)\n",
    "    try:\n",
    "        heatmap = sns.heatmap(df_cm, annot=True, fmt=\"d\")\n",
    "    except ValueError:\n",
    "        raise ValueError(\"Confusion matrix values must be integers.\")\n",
    "    heatmap.yaxis.set_ticklabels(heatmap.yaxis.get_ticklabels(), rotation=0, ha='right', fontsize=fontsize)\n",
    "    heatmap.xaxis.set_ticklabels(heatmap.xaxis.get_ticklabels(), rotation=45, ha='right', fontsize=fontsize)\n",
    "    plt.ylabel('True label')\n",
    "    plt.xlabel('Predicted label')\n",
    "    # Note that due to returning the created figure object, when this funciton is called in a notebook\n",
    "    # the figure willl be printed twice. To prevent this, either append ; to your function call, or\n",
    "    # modify the function by commenting out this return expression.\n",
    "    return fig"
   ]
  },
  {
   "cell_type": "code",
   "execution_count": null,
   "id": "c521204b-9f65-49ec-b3c1-568bf434b44a",
   "metadata": {},
   "outputs": [],
   "source": [
    "\n",
    "    \n",
    "    selected_features = X_train[arr]\n",
    "#     print(\"Features selected from GA\")\n",
    "#     print(selected_features)\n",
    "    X_test_temp = X_test[arr]\n",
    "    selected_X = selected_features.values.tolist()\n",
    "    selected_Y = Y_train\n",
    "    \n",
    "    \n",
    "    print(\"SVM Model\")\n",
    "    model = SVC()\n",
    "    model.fit(selected_X, selected_Y)\n",
    "    y_pred = model.predict(X_test_temp)\n",
    "    print(classification_report(Y_test, y_pred))\n",
    "    \n",
    "    print(\"LR Model\")\n",
    "    clf = LogisticRegression( multi_class= 'ovr', max_iter = 10000).fit(selected_X, selected_Y)\n",
    "    y_pred_log = clf.predict(X_test_temp)\n",
    "    print(classification_report(Y_test, y_pred_log))\n",
    "        \n",
    "    print(\"RF Model\")\n",
    "    RF = RandomForestClassifier()\n",
    "    RF.fit(selected_X,selected_Y)\n",
    "    y_pred_RF = RF.predict(X_test_temp)\n",
    "    print(classification_report(Y_test, y_pred_RF))\n",
    "    \n",
    "    \n"
   ]
  },
  {
   "cell_type": "code",
   "execution_count": null,
   "id": "947c6108-6a01-400a-a608-e46725f6c511",
   "metadata": {},
   "outputs": [],
   "source": [
    "cm = confusion_matrix(Y_test, y_pred)\n",
    "print_confusion_matrix(cm, [\"early_troph\", \"late_troph\", \"ring\",  \"schizont \"]);"
   ]
  },
  {
   "cell_type": "code",
   "execution_count": null,
   "id": "aeb8beb4-30b2-4dc2-bf9f-245b2a4c44f8",
   "metadata": {},
   "outputs": [],
   "source": [
    "import matplotlib.pyplot as plt\n",
    "import seaborn as sns\n",
    " \n",
    "# Create bars\n",
    "barWidth = 0.5\n",
    "bars1 = [91]\n",
    "bars2 = [90]\n",
    "bars3 = [90]\n",
    "bars4 = bars1 + bars2 + bars3\n",
    " \n",
    "# The X position of bars\n",
    "r1 = [1]\n",
    "r2 = [2]\n",
    "r3 = [3]\n",
    "r4 = r1 + r2 + r3\n",
    "sns.set_style(\"whitegrid\")\n",
    "\n",
    "# Create barplot\n",
    "plt.bar(r1, bars1, width = barWidth, color = \"#FFA500\", lw = 3)\n",
    "plt.bar(r2, bars2, width = barWidth, color = \"#FFFF14\", lw = 3)\n",
    "plt.bar(r3, bars3, width = barWidth, color = \"#00FFFF\", lw = 3)\n",
    "plt.ylim(80, 100)\n",
    "# plt.legend()\n",
    " \n",
    "# Text below each barplot with a rotation at 90°\n",
    "plt.xticks([r + barWidth + 0.5 for r in range(len(r4))], ['SVM', 'LR', 'RF'])\n",
    "\n",
    "plt.ylabel(\"Accuracy in %\")\n",
    "plt.xlabel(\"Classification Model\")\n",
    "# Create labels\n",
    "label = ['91%', '90%', '90%']\n",
    " \n",
    "# Text on the top of each bar\n",
    "for i in range(len(r4)):\n",
    "    plt.text(x = r4[i] - 0.1 , y = bars4[i]+0.1, s = label[i], size = 12)\n",
    "\n",
    "# Adjust the margins\n",
    "plt.subplots_adjust(bottom= 0.2, top = 0.98)\n",
    " \n",
    "# Show graphic\n",
    "\n",
    "plt.savefig('accuracy_with_feature_selection.png',bbox_inches='tight')\n",
    "plt.show()"
   ]
  }
 ],
 "metadata": {
  "kernelspec": {
   "display_name": "Python 3 (ipykernel)",
   "language": "python",
   "name": "python3"
  },
  "language_info": {
   "codemirror_mode": {
    "name": "ipython",
    "version": 3
   },
   "file_extension": ".py",
   "mimetype": "text/x-python",
   "name": "python",
   "nbconvert_exporter": "python",
   "pygments_lexer": "ipython3",
   "version": "3.8.11"
  }
 },
 "nbformat": 4,
 "nbformat_minor": 5
}
